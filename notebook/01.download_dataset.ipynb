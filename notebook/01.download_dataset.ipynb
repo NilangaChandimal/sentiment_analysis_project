{
 "cells": [
  {
   "cell_type": "code",
   "execution_count": 1,
   "metadata": {},
   "outputs": [],
   "source": [
    "import numpy as np"
   ]
  },
  {
   "cell_type": "code",
   "execution_count": 2,
   "metadata": {},
   "outputs": [],
   "source": [
    "import json\n",
    "with open('../artifacts/kaggle.json', 'r')as file:\n",
    "    data = json.load(file)"
   ]
  },
  {
   "cell_type": "code",
   "execution_count": 3,
   "metadata": {},
   "outputs": [
    {
     "data": {
      "text/plain": [
       "{'username': 'nilangachandimal', 'key': 'cb6264e54583069b34a417bf6d2462e1'}"
      ]
     },
     "execution_count": 3,
     "metadata": {},
     "output_type": "execute_result"
    }
   ],
   "source": [
    "data"
   ]
  },
  {
   "cell_type": "code",
   "execution_count": 4,
   "metadata": {},
   "outputs": [
    {
     "name": "stdout",
     "output_type": "stream",
     "text": [
      "Collecting kaggle\n",
      "  Downloading kaggle-1.5.16.tar.gz (83 kB)\n",
      "     ---------------------------------------- 0.0/83.6 kB ? eta -:--:--\n",
      "     ---- ----------------------------------- 10.2/83.6 kB ? eta -:--:--\n",
      "     ---- ----------------------------------- 10.2/83.6 kB ? eta -:--:--\n",
      "     ---- ----------------------------------- 10.2/83.6 kB ? eta -:--:--\n",
      "     ---- ----------------------------------- 10.2/83.6 kB ? eta -:--:--\n",
      "     ------------- ------------------------ 30.7/83.6 kB 100.9 kB/s eta 0:00:01\n",
      "     ------------- ------------------------ 30.7/83.6 kB 100.9 kB/s eta 0:00:01\n",
      "     ------------- ------------------------ 30.7/83.6 kB 100.9 kB/s eta 0:00:01\n",
      "     ------------- ------------------------ 30.7/83.6 kB 100.9 kB/s eta 0:00:01\n",
      "     ------------- ------------------------ 30.7/83.6 kB 100.9 kB/s eta 0:00:01\n",
      "     ------------------- ------------------- 41.0/83.6 kB 75.7 kB/s eta 0:00:01\n",
      "     ------------------- ------------------- 41.0/83.6 kB 75.7 kB/s eta 0:00:01\n",
      "     ------------------- ------------------- 41.0/83.6 kB 75.7 kB/s eta 0:00:01\n",
      "     ------------------- ------------------- 41.0/83.6 kB 75.7 kB/s eta 0:00:01\n",
      "     ------------------- ------------------- 41.0/83.6 kB 75.7 kB/s eta 0:00:01\n",
      "     ------------------- ------------------- 41.0/83.6 kB 75.7 kB/s eta 0:00:01\n",
      "     ------------------- ------------------- 41.0/83.6 kB 75.7 kB/s eta 0:00:01\n",
      "     ------------------- ------------------- 41.0/83.6 kB 75.7 kB/s eta 0:00:01\n",
      "     ------------------- ------------------- 41.0/83.6 kB 75.7 kB/s eta 0:00:01\n",
      "     ------------------- ------------------- 41.0/83.6 kB 75.7 kB/s eta 0:00:01\n",
      "     --------------------------------------  81.9/83.6 kB 88.2 kB/s eta 0:00:01\n",
      "     --------------------------------------- 83.6/83.6 kB 82.3 kB/s eta 0:00:00\n",
      "  Installing build dependencies: started\n",
      "  Installing build dependencies: finished with status 'done'\n",
      "  Getting requirements to build wheel: started\n",
      "  Getting requirements to build wheel: finished with status 'done'\n",
      "  Preparing metadata (pyproject.toml): started\n",
      "  Preparing metadata (pyproject.toml): finished with status 'done'\n",
      "Requirement already satisfied: six>=1.10 in c:\\users\\nilanga chandimal\\appdata\\local\\programs\\python\\python311\\lib\\site-packages (from kaggle) (1.16.0)\n",
      "Requirement already satisfied: certifi in c:\\users\\nilanga chandimal\\appdata\\local\\programs\\python\\python311\\lib\\site-packages (from kaggle) (2023.7.22)\n",
      "Requirement already satisfied: python-dateutil in c:\\users\\nilanga chandimal\\appdata\\local\\programs\\python\\python311\\lib\\site-packages (from kaggle) (2.8.2)\n",
      "Requirement already satisfied: requests in c:\\users\\nilanga chandimal\\appdata\\local\\programs\\python\\python311\\lib\\site-packages (from kaggle) (2.31.0)\n",
      "Collecting tqdm (from kaggle)\n",
      "  Obtaining dependency information for tqdm from https://files.pythonhosted.org/packages/00/e5/f12a80907d0884e6dff9c16d0c0114d81b8cd07dc3ae54c5e962cc83037e/tqdm-4.66.1-py3-none-any.whl.metadata\n",
      "  Downloading tqdm-4.66.1-py3-none-any.whl.metadata (57 kB)\n",
      "     ---------------------------------------- 0.0/57.6 kB ? eta -:--:--\n",
      "     ---------------------------------------- 0.0/57.6 kB ? eta -:--:--\n",
      "     ---------------------------------------- 0.0/57.6 kB ? eta -:--:--\n",
      "     ---------------------------------------- 0.0/57.6 kB ? eta -:--:--\n",
      "     ---------------------------------------- 0.0/57.6 kB ? eta -:--:--\n",
      "     ---------------------------------------- 0.0/57.6 kB ? eta -:--:--\n",
      "     ---------------------------------------- 0.0/57.6 kB ? eta -:--:--\n",
      "     ---------------------------------------- 0.0/57.6 kB ? eta -:--:--\n",
      "     ---------------------------------------- 0.0/57.6 kB ? eta -:--:--\n",
      "     ---------------------------------------- 0.0/57.6 kB ? eta -:--:--\n",
      "     ---------------------------------------- 0.0/57.6 kB ? eta -:--:--\n",
      "     ---------------------------------------- 0.0/57.6 kB ? eta -:--:--\n",
      "     ---------------------------------------- 0.0/57.6 kB ? eta -:--:--\n",
      "     ---------------------------------------- 0.0/57.6 kB ? eta -:--:--\n",
      "     ---------------------------------------- 0.0/57.6 kB ? eta -:--:--\n",
      "     ---------------------------------------- 0.0/57.6 kB ? eta -:--:--\n",
      "     ----------------------------------- ---- 51.2/57.6 kB ? eta -:--:--\n",
      "     ----------------------------------- ---- 51.2/57.6 kB ? eta -:--:--\n",
      "     ---------------------------------------- 57.6/57.6 kB 1.0 MB/s eta 0:00:00\n",
      "Collecting python-slugify (from kaggle)\n",
      "  Downloading python_slugify-8.0.1-py2.py3-none-any.whl (9.7 kB)\n",
      "Requirement already satisfied: urllib3 in c:\\users\\nilanga chandimal\\appdata\\local\\programs\\python\\python311\\lib\\site-packages (from kaggle) (2.0.4)\n",
      "Requirement already satisfied: bleach in c:\\users\\nilanga chandimal\\appdata\\local\\programs\\python\\python311\\lib\\site-packages (from kaggle) (6.0.0)\n",
      "Requirement already satisfied: webencodings in c:\\users\\nilanga chandimal\\appdata\\local\\programs\\python\\python311\\lib\\site-packages (from bleach->kaggle) (0.5.1)\n",
      "Collecting text-unidecode>=1.3 (from python-slugify->kaggle)\n",
      "  Downloading text_unidecode-1.3-py2.py3-none-any.whl (78 kB)\n",
      "     ---------------------------------------- 0.0/78.2 kB ? eta -:--:--\n",
      "     ---------------------------------------- 0.0/78.2 kB ? eta -:--:--\n",
      "     ---------------------------------------- 0.0/78.2 kB ? eta -:--:--\n",
      "     ---------------------------------------- 0.0/78.2 kB ? eta -:--:--\n",
      "     ---------------------------------------- 0.0/78.2 kB ? eta -:--:--\n",
      "     ---------------------------------------- 0.0/78.2 kB ? eta -:--:--\n",
      "     ---------------------------------------- 0.0/78.2 kB ? eta -:--:--\n",
      "     ---------------------------------------- 0.0/78.2 kB ? eta -:--:--\n",
      "     ---------------------------------------- 0.0/78.2 kB ? eta -:--:--\n",
      "     ---------------------------------------- 0.0/78.2 kB ? eta -:--:--\n",
      "     ---------------------------------------- 0.0/78.2 kB ? eta -:--:--\n",
      "     ---------------------------------------- 0.0/78.2 kB ? eta -:--:--\n",
      "     ---------------------------------------- 0.0/78.2 kB ? eta -:--:--\n",
      "     ---------------------------------------- 0.0/78.2 kB ? eta -:--:--\n",
      "     ---------------------------------------- 0.0/78.2 kB ? eta -:--:--\n",
      "     ---------------------------------------- 0.0/78.2 kB ? eta -:--:--\n",
      "     ----- ---------------------------------- 10.2/78.2 kB ? eta -:--:--\n",
      "     ----- ---------------------------------- 10.2/78.2 kB ? eta -:--:--\n",
      "     ----- ---------------------------------- 10.2/78.2 kB ? eta -:--:--\n",
      "     -------------- ----------------------- 30.7/78.2 kB 163.8 kB/s eta 0:00:01\n",
      "     -------------- ----------------------- 30.7/78.2 kB 163.8 kB/s eta 0:00:01\n",
      "     -------------- ----------------------- 30.7/78.2 kB 163.8 kB/s eta 0:00:01\n",
      "     -------------- ----------------------- 30.7/78.2 kB 163.8 kB/s eta 0:00:01\n",
      "     -------------- ----------------------- 30.7/78.2 kB 163.8 kB/s eta 0:00:01\n",
      "     -------------- ----------------------- 30.7/78.2 kB 163.8 kB/s eta 0:00:01\n",
      "     -------------- ----------------------- 30.7/78.2 kB 163.8 kB/s eta 0:00:01\n",
      "     -------------- ----------------------- 30.7/78.2 kB 163.8 kB/s eta 0:00:01\n",
      "     -------------- ----------------------- 30.7/78.2 kB 163.8 kB/s eta 0:00:01\n",
      "     -------------- ----------------------- 30.7/78.2 kB 163.8 kB/s eta 0:00:01\n",
      "     -------------- ----------------------- 30.7/78.2 kB 163.8 kB/s eta 0:00:01\n",
      "     -------------- ----------------------- 30.7/78.2 kB 163.8 kB/s eta 0:00:01\n",
      "     -------------- ----------------------- 30.7/78.2 kB 163.8 kB/s eta 0:00:01\n",
      "     -------------- ----------------------- 30.7/78.2 kB 163.8 kB/s eta 0:00:01\n",
      "     -------------- ----------------------- 30.7/78.2 kB 163.8 kB/s eta 0:00:01\n",
      "     -------------- ----------------------- 30.7/78.2 kB 163.8 kB/s eta 0:00:01\n",
      "     -------------- ----------------------- 30.7/78.2 kB 163.8 kB/s eta 0:00:01\n",
      "     -------------- ----------------------- 30.7/78.2 kB 163.8 kB/s eta 0:00:01\n",
      "     -------------- ----------------------- 30.7/78.2 kB 163.8 kB/s eta 0:00:01\n",
      "     -------------- ----------------------- 30.7/78.2 kB 163.8 kB/s eta 0:00:01\n",
      "     -------------- ----------------------- 30.7/78.2 kB 163.8 kB/s eta 0:00:01\n",
      "     -------------- ----------------------- 30.7/78.2 kB 163.8 kB/s eta 0:00:01\n",
      "     -------------- ----------------------- 30.7/78.2 kB 163.8 kB/s eta 0:00:01\n",
      "     -------------- ----------------------- 30.7/78.2 kB 163.8 kB/s eta 0:00:01\n",
      "     -------------- ----------------------- 30.7/78.2 kB 163.8 kB/s eta 0:00:01\n",
      "     -------------- ----------------------- 30.7/78.2 kB 163.8 kB/s eta 0:00:01\n",
      "     -------------- ----------------------- 30.7/78.2 kB 163.8 kB/s eta 0:00:01\n",
      "     -------------- ----------------------- 30.7/78.2 kB 163.8 kB/s eta 0:00:01\n",
      "     -------------- ----------------------- 30.7/78.2 kB 163.8 kB/s eta 0:00:01\n",
      "     -------------- ----------------------- 30.7/78.2 kB 163.8 kB/s eta 0:00:01\n",
      "     -------------- ----------------------- 30.7/78.2 kB 163.8 kB/s eta 0:00:01\n",
      "     -------------- ----------------------- 30.7/78.2 kB 163.8 kB/s eta 0:00:01\n",
      "     -------------- ----------------------- 30.7/78.2 kB 163.8 kB/s eta 0:00:01\n",
      "     -------------- ----------------------- 30.7/78.2 kB 163.8 kB/s eta 0:00:01\n",
      "     -------------- ----------------------- 30.7/78.2 kB 163.8 kB/s eta 0:00:01\n",
      "     -------------- ----------------------- 30.7/78.2 kB 163.8 kB/s eta 0:00:01\n",
      "     -------------- ----------------------- 30.7/78.2 kB 163.8 kB/s eta 0:00:01\n",
      "     -------------- ----------------------- 30.7/78.2 kB 163.8 kB/s eta 0:00:01\n",
      "     -------------- ----------------------- 30.7/78.2 kB 163.8 kB/s eta 0:00:01\n",
      "     -------------- ----------------------- 30.7/78.2 kB 163.8 kB/s eta 0:00:01\n",
      "     ------------------------------ -------- 61.4/78.2 kB 28.3 kB/s eta 0:00:01\n",
      "     ------------------------------ -------- 61.4/78.2 kB 28.3 kB/s eta 0:00:01\n",
      "     ----------------------------------- --- 71.7/78.2 kB 32.0 kB/s eta 0:00:01\n",
      "     ----------------------------------- --- 71.7/78.2 kB 32.0 kB/s eta 0:00:01\n",
      "     --------------------------------------- 78.2/78.2 kB 34.0 kB/s eta 0:00:00\n",
      "Requirement already satisfied: charset-normalizer<4,>=2 in c:\\users\\nilanga chandimal\\appdata\\local\\programs\\python\\python311\\lib\\site-packages (from requests->kaggle) (3.2.0)\n",
      "Requirement already satisfied: idna<4,>=2.5 in c:\\users\\nilanga chandimal\\appdata\\local\\programs\\python\\python311\\lib\\site-packages (from requests->kaggle) (3.4)\n",
      "Requirement already satisfied: colorama in c:\\users\\nilanga chandimal\\appdata\\local\\programs\\python\\python311\\lib\\site-packages (from tqdm->kaggle) (0.4.6)\n",
      "Downloading tqdm-4.66.1-py3-none-any.whl (78 kB)\n",
      "   ---------------------------------------- 0.0/78.3 kB ? eta -:--:--\n",
      "   ---------------------------------------- 0.0/78.3 kB ? eta -:--:--\n",
      "   ---------------------------------------- 0.0/78.3 kB ? eta -:--:--\n",
      "   ---------------------------------------- 0.0/78.3 kB ? eta -:--:--\n",
      "   ---------------------------------------- 0.0/78.3 kB ? eta -:--:--\n",
      "   ----- ---------------------------------- 10.2/78.3 kB ? eta -:--:--\n",
      "   ----- ---------------------------------- 10.2/78.3 kB ? eta -:--:--\n",
      "   ----- ---------------------------------- 10.2/78.3 kB ? eta -:--:--\n",
      "   ----- ---------------------------------- 10.2/78.3 kB ? eta -:--:--\n",
      "   ----- ---------------------------------- 10.2/78.3 kB ? eta -:--:--\n",
      "   ----- ---------------------------------- 10.2/78.3 kB ? eta -:--:--\n",
      "   ----- ---------------------------------- 10.2/78.3 kB ? eta -:--:--\n",
      "   ----- ---------------------------------- 10.2/78.3 kB ? eta -:--:--\n",
      "   ----- ---------------------------------- 10.2/78.3 kB ? eta -:--:--\n",
      "   ----- ---------------------------------- 10.2/78.3 kB ? eta -:--:--\n",
      "   ----- ---------------------------------- 10.2/78.3 kB ? eta -:--:--\n",
      "   ----- ---------------------------------- 10.2/78.3 kB ? eta -:--:--\n",
      "   ----- ---------------------------------- 10.2/78.3 kB ? eta -:--:--\n",
      "   ----- ---------------------------------- 10.2/78.3 kB ? eta -:--:--\n",
      "   ----- ---------------------------------- 10.2/78.3 kB ? eta -:--:--\n",
      "   ----- ---------------------------------- 10.2/78.3 kB ? eta -:--:--\n",
      "   --------------- ------------------------ 30.7/78.3 kB 27.9 kB/s eta 0:00:02\n",
      "   -------------------- ------------------- 41.0/78.3 kB 40.2 kB/s eta 0:00:01\n",
      "   -------------------- ------------------- 41.0/78.3 kB 40.2 kB/s eta 0:00:01\n",
      "   -------------------- ------------------- 41.0/78.3 kB 40.2 kB/s eta 0:00:01\n",
      "   -------------------- ------------------- 41.0/78.3 kB 40.2 kB/s eta 0:00:01\n",
      "   -------------------- ------------------- 41.0/78.3 kB 40.2 kB/s eta 0:00:01\n",
      "   -------------------- ------------------- 41.0/78.3 kB 40.2 kB/s eta 0:00:01\n",
      "   -------------------- ------------------- 41.0/78.3 kB 40.2 kB/s eta 0:00:01\n",
      "   -------------------- ------------------- 41.0/78.3 kB 40.2 kB/s eta 0:00:01\n",
      "   -------------------- ------------------- 41.0/78.3 kB 40.2 kB/s eta 0:00:01\n",
      "   ------------------------------- -------- 61.4/78.3 kB 44.9 kB/s eta 0:00:01\n",
      "   ------------------------------- -------- 61.4/78.3 kB 44.9 kB/s eta 0:00:01\n",
      "   ------------------------------- -------- 61.4/78.3 kB 44.9 kB/s eta 0:00:01\n",
      "   ------------------------------- -------- 61.4/78.3 kB 44.9 kB/s eta 0:00:01\n",
      "   ------------------------------- -------- 61.4/78.3 kB 44.9 kB/s eta 0:00:01\n",
      "   ------------------------------- -------- 61.4/78.3 kB 44.9 kB/s eta 0:00:01\n",
      "   ------------------------------------ --- 71.7/78.3 kB 44.2 kB/s eta 0:00:01\n",
      "   ---------------------------------------- 78.3/78.3 kB 46.8 kB/s eta 0:00:00\n",
      "Building wheels for collected packages: kaggle\n",
      "  Building wheel for kaggle (pyproject.toml): started\n",
      "  Building wheel for kaggle (pyproject.toml): finished with status 'done'\n",
      "  Created wheel for kaggle: filename=kaggle-1.5.16-py3-none-any.whl size=110693 sha256=20142f89864cfa207818c1f45295457c85924768d88b427b7f78e841f6c084ff\n",
      "  Stored in directory: c:\\users\\nilanga chandimal\\appdata\\local\\pip\\cache\\wheels\\6a\\2b\\d0\\457dd27de499e9423caf738e743c4a3f82886ee6b19f89d5b7\n",
      "Successfully built kaggle\n",
      "Installing collected packages: text-unidecode, tqdm, python-slugify, kaggle\n",
      "Successfully installed kaggle-1.5.16 python-slugify-8.0.1 text-unidecode-1.3 tqdm-4.66.1\n"
     ]
    }
   ],
   "source": [
    "!pip install kaggle"
   ]
  },
  {
   "cell_type": "code",
   "execution_count": 5,
   "metadata": {},
   "outputs": [],
   "source": [
    "import os\n",
    "os.environ['KAGGLE_USERNAME'] = data['username']\n",
    "os.environ['KAGGLE_KEY'] = data['key']"
   ]
  },
  {
   "cell_type": "code",
   "execution_count": 6,
   "metadata": {},
   "outputs": [],
   "source": [
    "from kaggle.api.kaggle_api_extended import KaggleApi\n",
    "api = KaggleApi()\n",
    "api.authenticate()"
   ]
  },
  {
   "cell_type": "code",
   "execution_count": 7,
   "metadata": {},
   "outputs": [],
   "source": [
    "api.dataset_download_files('dineshpiyasamara/sentiment-analysis-dataset', path='../artifacts/')"
   ]
  },
  {
   "cell_type": "code",
   "execution_count": 8,
   "metadata": {},
   "outputs": [],
   "source": [
    "import zipfile\n",
    "with zipfile.ZipFile('../artifacts/sentiment-analysis-dataset.zip', 'r') as zip_ref:\n",
    "    zip_ref.extractall('../artifacts/')"
   ]
  },
  {
   "cell_type": "code",
   "execution_count": null,
   "metadata": {},
   "outputs": [],
   "source": []
  }
 ],
 "metadata": {
  "kernelspec": {
   "display_name": "Python 3 (ipykernel)",
   "language": "python",
   "name": "python3"
  },
  "language_info": {
   "codemirror_mode": {
    "name": "ipython",
    "version": 3
   },
   "file_extension": ".py",
   "mimetype": "text/x-python",
   "name": "python",
   "nbconvert_exporter": "python",
   "pygments_lexer": "ipython3",
   "version": "3.11.4"
  }
 },
 "nbformat": 4,
 "nbformat_minor": 4
}
